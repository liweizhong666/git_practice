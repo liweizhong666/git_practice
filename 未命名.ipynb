{
 "cells": [
  {
   "cell_type": "markdown",
   "metadata": {},
   "source": [
    "#### API调用\n",
    "python相关的: https://api.github.com/search/repositories?q=language:python&sort=stars\n",
    "\n",
    "查看API的速度限制,即在特定时间内可请求数: https://api.github.com/rate_limit"
   ]
  },
  {
   "cell_type": "code",
   "execution_count": 5,
   "metadata": {},
   "outputs": [
    {
     "name": "stdout",
     "output_type": "stream",
     "text": [
      "Status code: 200\n",
      "Total repositories: 3222940\n",
      "Repositories returned: 30\n"
     ]
    }
   ],
   "source": [
    "import requests\n",
    "import pygal\n",
    "from pygal.style import LightColorizedStyle as LCS, LightenStyle as LS\n",
    "\n",
    "# 执行API调用并存储响应\n",
    "url = 'https://api.github.com/search/repositories?q=language:python&sort=stars'\n",
    "r = requests.get(url)\n",
    "print(\"Status code:\", r.status_code)\n",
    "\n",
    "# 将响应存储在一个变量中\n",
    "requests_dict = r.json()\n",
    "print(\"Total repositories:\", requests_dict['total_count'])\n",
    "\n",
    "# 探索有关仓库的信息\n",
    "repo_dicts = requests_dict['items']\n",
    "print(\"Repositories returned:\", len(repo_dicts))\n",
    "\n",
    "# # 研究第一个仓库\n",
    "# repo_dict = repo_dicts[0]\n",
    "# print(\"\\nKeys:\", len(repo_dict))\n",
    "# # for key in sorted(repo_dict.keys()):\n",
    "# #     print(key)   \n",
    "# # 打印某个仓库的信息\n",
    "# print(\"\\nSelected information about first repository:\")\n",
    "# print('Name:', repo_dict['name'])\n",
    "# print('Owner:', repo_dict['owner']['login'])\n",
    "# print('Stars:', repo_dict['stargazers_count'])\n",
    "# print('Repository:', repo_dict['html_url'])\n",
    "# print('Created:', repo_dict['created_at'])\n",
    "# print('Updated:', repo_dict['updated_at'])\n",
    "# print('Description:', repo_dict['description'])\n",
    "\n",
    "## 可视化仓库\n",
    "# 横、纵坐标\n",
    "names, plot_dicts = [], []\n",
    "for repo_dict in repo_dicts:\n",
    "    names.append(repo_dict['name'])\n",
    "    stars.append(repo_dict['stargazers_count'])\n",
    "\n",
    "    \n",
    "    # 根据数据绘图\n",
    "    plot_dict = {\n",
    "        'value': repo_dict['stargazers_count'],\n",
    "        'label':  ['description'],\n",
    "        'xlink': repo_dict['html_url'],\n",
    "        }\n",
    "    plot_dicts.append(plot_dict)\n",
    "    \n",
    "# print(names)\n",
    "# print(stars)\n",
    "# 可视化\n",
    "my_style = LS('#DC3912', base_style=LCS)\n",
    "# 图表各种参数\n",
    "my_config = pygal.Config()\n",
    "my_config.x_label_rotation = 45\n",
    "my_config.show_legend = False\n",
    "my_config.title_font_size = 24\n",
    "my_config.label_font_size = 14\n",
    "my_config.major_label_font_size = 30    # 主标签更大\n",
    "my_config.truncate_label = 10     # 将较长的项目名称缩短为15个字符，鼠标指向特定的字符，可以显示完整的名称\n",
    "my_config.show_y_guides = False   # 隐藏横坐标\n",
    "my_config.width = 1000\n",
    "\n",
    "chart = pygal.Bar(my_config, style=my_style)\n",
    "chart.title = 'Most-Starred Python Project on Github'\n",
    "chart.x_labels = names\n",
    "chart.add('', plot_dict)\n",
    "# chart.add('', stars)\n",
    "chart.render_to_file('python_repos.svg')"
   ]
  },
  {
   "cell_type": "code",
   "execution_count": null,
   "metadata": {},
   "outputs": [],
   "source": [
    "import pygal\n",
    "from pygal.style import LightColorizedStyle as LCS, LightenStyle as LS\n",
    "\n",
    "my_style = LS('#333366', base_style=LCS)\n",
    "chart = pygal.Bar(my_style=my_style, x_label_rotation=45, show_legend=False)\n",
    "\n",
    "chart.title = 'Python Projects'\n",
    "chart.x_labels = ['models', 'django', 'flask']\n",
    "\n",
    "plot_dicts = [\n",
    "    {'value':16101, 'label': 'Description of httpie.'},\n",
    "    {'value':15028, 'label': 'Description of django.'},\n",
    "    {'value':14798, 'label': 'Description of flask.'},\n",
    "    ]\n",
    "\n",
    "chart.add('', plot_dicts)\n",
    "chart.render_to_file('bar_description.svg')"
   ]
  },
  {
   "cell_type": "markdown",
   "metadata": {},
   "source": [
    "### Hacker News API\n",
    "https://news.ycombinator.com/"
   ]
  }
 ],
 "metadata": {
  "kernelspec": {
   "display_name": "Python 3",
   "language": "python",
   "name": "python3"
  },
  "language_info": {
   "codemirror_mode": {
    "name": "ipython",
    "version": 3
   },
   "file_extension": ".py",
   "mimetype": "text/x-python",
   "name": "python",
   "nbconvert_exporter": "python",
   "pygments_lexer": "ipython3",
   "version": "3.6.6"
  }
 },
 "nbformat": 4,
 "nbformat_minor": 2
}
